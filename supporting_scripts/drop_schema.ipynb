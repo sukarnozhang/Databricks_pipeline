{
 "cells": [
  {
   "cell_type": "code",
   "execution_count": 0,
   "metadata": {
    "application/vnd.databricks.v1+cell": {
     "cellMetadata": {},
     "inputWidgets": {},
     "nuid": "95c79302-1669-4391-b193-0e83a1fb32c7",
     "showTitle": false,
     "tableResultSettingsMap": {},
     "title": ""
    }
   },
   "outputs": [],
   "source": [
    "schemas = [\"silver_schema\", \"gold_staging\", \"gold_serving\"]\n",
    "\n",
    "for schema in schemas:\n",
    "    tables = spark.sql(f\"SHOW TABLES IN {schema}\").collect()\n",
    "    for table in tables:\n",
    "        spark.sql(f\"DROP TABLE IF EXISTS {schema}.{table['tableName']}\")\n",
    "    spark.sql(f\"DROP SCHEMA IF EXISTS {schema}\")"
   ]
  }
 ],
 "metadata": {
  "application/vnd.databricks.v1+notebook": {
   "computePreferences": null,
   "dashboards": [],
   "environmentMetadata": {
    "base_environment": "",
    "environment_version": "2"
   },
   "inputWidgetPreferences": null,
   "language": "python",
   "notebookMetadata": {
    "pythonIndentUnit": 4
   },
   "notebookName": "drop_schema",
   "widgets": {}
  },
  "language_info": {
   "name": "python"
  }
 },
 "nbformat": 4,
 "nbformat_minor": 0
}
