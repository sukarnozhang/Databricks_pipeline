{
 "cells": [
  {
   "cell_type": "code",
   "execution_count": 0,
   "metadata": {
    "application/vnd.databricks.v1+cell": {
     "cellMetadata": {
      "byteLimit": 2048000,
      "rowLimit": 10000
     },
     "inputWidgets": {},
     "nuid": "33f5fdc1-4ef9-41a1-a6e6-3be6628e89d2",
     "showTitle": false,
     "tableResultSettingsMap": {},
     "title": ""
    }
   },
   "outputs": [],
   "source": [
    "# -------------------------------\n",
    "# Step 1: Define AWS credentials using Databricks secrets\n",
    "# -------------------------------\n",
    "aws_access_key = dbutils.secrets.get(scope=\"aws-secrets\", key=\"aws-access-key\")\n",
    "aws_secret_key = dbutils.secrets.get(scope=\"aws-secrets\", key=\"aws-secret-key\")\n",
    "input_file_path = \"s3a://databricks-practice-sk/raw_data/contoh.json\"\n",
    "output_path = \"s3a://databricks-practice-sk/processed_data/output.delta\"\n",
    "\n",
    "# -------------------------------\n",
    "# Step 2: Configure Spark for AWS S3\n",
    "# -------------------------------\n",
    "spark.conf.set(\"fs.s3a.access.key\", aws_access_key)\n",
    "spark.conf.set(\"fs.s3a.secret.key\", aws_secret_key)\n",
    "spark.conf.set(\"fs.s3a.endpoint\", \"s3.amazonaws.com\")\n",
    "\n",
    "# -------------------------------\n",
    "# Step 3: Read JSON file from S3\n",
    "# -------------------------------\n",
    "bronze_df = spark.read.option(\"multiline\", \"true\").json(input_file_path)\n",
    "\n",
    "# Show schema and sample data\n",
    "bronze_df.printSchema()\n",
    "display(bronze_df)\n",
    "\n",
    "# -------------------------------\n",
    "# Step 4: Process the data (example: select key columns)\n",
    "# -------------------------------\n",
    "# For now, let's just pass the same DataFrame\n",
    "silver_df = bronze_df\n",
    "\n",
    "# -------------------------------\n",
    "# Step 5: Write back to S3 as Delta table\n",
    "# -------------------------------\n",
    "silver_df.write.format(\"delta\").mode(\"overwrite\").save(output_path)\n",
    "\n",
    "print(f\"Data written successfully to {output_path}\")"
   ]
  }
 ],
 "metadata": {
  "application/vnd.databricks.v1+notebook": {
   "computePreferences": null,
   "dashboards": [],
   "environmentMetadata": {
    "base_environment": "",
    "environment_version": "3"
   },
   "inputWidgetPreferences": null,
   "language": "python",
   "notebookMetadata": {
    "pythonIndentUnit": 4
   },
   "notebookName": "json_to_delta_table",
   "widgets": {}
  },
  "language_info": {
   "name": "python"
  }
 },
 "nbformat": 4,
 "nbformat_minor": 0
}
