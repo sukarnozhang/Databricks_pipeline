{
 "cells": [
  {
   "cell_type": "code",
   "execution_count": 0,
   "metadata": {
    "application/vnd.databricks.v1+cell": {
     "cellMetadata": {
      "byteLimit": 2048000,
      "rowLimit": 10000
     },
     "inputWidgets": {},
     "nuid": "33f5fdc1-4ef9-41a1-a6e6-3be6628e89d2",
     "showTitle": false,
     "tableResultSettingsMap": {},
     "title": ""
    }
   },
   "outputs": [],
   "source": [
    "# Paths\n",
    "raw_path = \"dbfs:/Workspace/Users/max.teo.adelaide@gmail.com/raw_data/bronze.json\"  # Change if needed\n",
    "bronze_path = \"dbfs:/Workspace/Users/max.teo.adelaide@gmail.com/bronze\"\n",
    "silver_path = \"dbfs:/Workspace/Users/max.teo.adelaide@gmail.com/silver\"\n",
    "gold_path = \"dbfs:/Workspace/Users/max.teo.adelaide@gmail.com/gold\"\n",
    "\n",
    "# Read JSON (multiline)\n",
    "bronze_df = spark.read.option(\"multiline\", \"true\").json(raw_path)\n",
    "bronze_df.printSchema()\n",
    "\n",
    "\n",
    "# Write Bronze Delta table\n",
    "bronze_df.write.format(\"delta\").mode(\"overwrite\").save(bronze_path)\n",
    "\n",
    "# Optionally register as table\n",
    "spark.sql(f\"CREATE TABLE IF NOT EXISTS bronze_raw_json USING DELTA LOCATION '{bronze_path}'\")\n"
   ]
  },
  {
   "cell_type": "code",
   "execution_count": 0,
   "metadata": {
    "application/vnd.databricks.v1+cell": {
     "cellMetadata": {},
     "inputWidgets": {},
     "nuid": "5972bd6e-f3c1-46e3-9752-e3c6af508956",
     "showTitle": false,
     "tableResultSettingsMap": {},
     "title": ""
    }
   },
   "outputs": [],
   "source": []
  }
 ],
 "metadata": {
  "application/vnd.databricks.v1+notebook": {
   "computePreferences": null,
   "dashboards": [],
   "environmentMetadata": {
    "base_environment": "",
    "environment_version": "3"
   },
   "inputWidgetPreferences": null,
   "language": "python",
   "notebookMetadata": {
    "pythonIndentUnit": 4
   },
   "notebookName": "Untitled Notebook 2025-07-25 13:07:47",
   "widgets": {}
  },
  "language_info": {
   "name": "python"
  }
 },
 "nbformat": 4,
 "nbformat_minor": 0
}
