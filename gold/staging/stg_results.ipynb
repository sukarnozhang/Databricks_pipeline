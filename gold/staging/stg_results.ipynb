{
 "cells": [
  {
   "cell_type": "code",
   "execution_count": 0,
   "metadata": {
    "application/vnd.databricks.v1+cell": {
     "cellMetadata": {
      "byteLimit": 2048000,
      "implicitDf": true,
      "rowLimit": 10000
     },
     "inputWidgets": {},
     "nuid": "16af4e58-034d-4f48-808d-11d253aa5b50",
     "showTitle": false,
     "tableResultSettingsMap": {},
     "title": ""
    }
   },
   "outputs": [],
   "source": [
    "%sql\n",
    "CREATE TABLE IF NOT EXISTS workspace.gold_staging.stg_results\n",
    "USING DELTA\n",
    "AS\n",
    "SELECT\n",
    "  time,\n",
    "  res.fk,\n",
    "  res.result.samp_id,\n",
    "  res.result.as_id,\n",
    "  res.result.Type,\n",
    "  res.result.comp,\n",
    "  res.result.unit,\n",
    "  res.result.det_id,\n",
    "  res.result.result,\n",
    "  res.result.number_of_averaged_samples\n",
    "FROM workspace.silver_schema.silver_delta_table\n",
    "LATERAL VIEW EXPLODE(results) AS res;\n",
    "\n",
    "MERGE INTO workspace.gold_staging.stg_results AS target\n",
    "USING (\n",
    "  SELECT * FROM (\n",
    "    SELECT\n",
    "      time,\n",
    "      res.fk,\n",
    "      res.result.samp_id,\n",
    "      res.result.as_id,\n",
    "      res.result.Type,\n",
    "      res.result.comp,\n",
    "      res.result.unit,\n",
    "      res.result.det_id,\n",
    "      res.result.result,\n",
    "      res.result.number_of_averaged_samples,\n",
    "      ROW_NUMBER() OVER (\n",
    "        PARTITION BY time, res.fk\n",
    "        ORDER BY time\n",
    "      ) AS rn\n",
    "    FROM workspace.silver_schema.silver_delta_table\n",
    "    LATERAL VIEW EXPLODE(results) AS res\n",
    "  ) WHERE rn = 1\n",
    ") AS source\n",
    "ON target.fk = source.fk\n",
    "AND target.time = source.time\n",
    "WHEN MATCHED THEN\n",
    "  UPDATE SET\n",
    "    target.samp_id = source.samp_id,\n",
    "    target.as_id = source.as_id,\n",
    "    target.Type = source.Type,\n",
    "    target.comp = source.comp,\n",
    "    target.unit = source.unit,\n",
    "    target.det_id = source.det_id,\n",
    "    target.result = source.result,\n",
    "    target.number_of_averaged_samples = source.number_of_averaged_samples\n",
    "WHEN NOT MATCHED THEN\n",
    "  INSERT (\n",
    "    time,\n",
    "    fk,\n",
    "    samp_id,\n",
    "    as_id,\n",
    "    Type,\n",
    "    comp,\n",
    "    unit,\n",
    "    det_id,\n",
    "    result,\n",
    "    number_of_averaged_samples\n",
    "  )\n",
    "  VALUES (\n",
    "    source.time,\n",
    "    source.fk,\n",
    "    source.samp_id,\n",
    "    source.as_id,\n",
    "    source.Type,\n",
    "    source.comp,\n",
    "    source.unit,\n",
    "    source.det_id,\n",
    "    source.result,\n",
    "    source.number_of_averaged_samples\n",
    "  );\n"
   ]
  }
 ],
 "metadata": {
  "application/vnd.databricks.v1+notebook": {
   "computePreferences": null,
   "dashboards": [],
   "environmentMetadata": {
    "base_environment": "",
    "environment_version": "2"
   },
   "inputWidgetPreferences": null,
   "language": "python",
   "notebookMetadata": {
    "mostRecentlyExecutedCommandWithImplicitDF": {
     "commandId": 8891634269854875,
     "dataframes": [
      "_sqldf"
     ]
    },
    "pythonIndentUnit": 4
   },
   "notebookName": "stg_results",
   "widgets": {}
  },
  "language_info": {
   "name": "python"
  }
 },
 "nbformat": 4,
 "nbformat_minor": 0
}
