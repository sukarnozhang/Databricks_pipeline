{
 "cells": [
  {
   "cell_type": "code",
   "execution_count": 0,
   "metadata": {
    "application/vnd.databricks.v1+cell": {
     "cellMetadata": {
      "byteLimit": 2048000,
      "implicitDf": true,
      "rowLimit": 10000
     },
     "inputWidgets": {},
     "nuid": "deb13492-9480-4c15-b4a9-e798fd7fadbe",
     "showTitle": false,
     "tableResultSettingsMap": {},
     "title": ""
    }
   },
   "outputs": [],
   "source": [
    "%sql\n",
    "CREATE TABLE IF NOT EXISTS workspace.gold_staging.stg_methods\n",
    "USING DELTA\n",
    "AS\n",
    "SELECT\n",
    "  time,\n",
    "  methods.sop,\n",
    "  methods.id AS method_id,\n",
    "  methods.meth_id,\n",
    "  methods.temp_id,\n",
    "  methods.report_template_version,\n",
    "  methods.seq_id,\n",
    "  methods.seq_version\n",
    "FROM workspace.silver_schema.silver_delta_table;\n",
    "\n",
    "MERGE INTO workspace.gold_staging.stg_methods AS target  -- Target Delta table alias\n",
    "USING (\n",
    "  SELECT * FROM (\n",
    "    SELECT\n",
    "      time,                                             -- Select time column from source\n",
    "      methods.sop,                                      -- Select sop from nested methods struct\n",
    "      methods.id AS method_id,                          -- Alias methods.id as method_id (used as key)\n",
    "      methods.meth_id,                                  -- Select meth_id\n",
    "      methods.temp_id,                                  -- Select temp_id\n",
    "      methods.report_template_version,                  -- Select report_template_version\n",
    "      methods.seq_id,                                   -- Select seq_id\n",
    "      methods.seq_version,                              -- Select seq_version\n",
    "      ROW_NUMBER() OVER (                               -- Add row number to deduplicate source\n",
    "        PARTITION BY time, methods.id                   -- Partition by composite key to group duplicates\n",
    "        ORDER BY time                                   -- Order within each group (can be any deterministic order)\n",
    "      ) AS rn                                           -- Row number column named rn\n",
    "    FROM workspace.silver_schema.silver_delta_table     -- Source table alias\n",
    "  ) WHERE rn = 1                                        -- Filter duplicates in this inner query\n",
    ") AS source                                           -- Source dataset alias\n",
    "ON target.method_id = source.method_id                -- Match target & source on method_id\n",
    "AND target.time = source.time                          -- Also match on time (composite key)\n",
    "WHEN MATCHED THEN                                      -- If matching row found in target\n",
    "  UPDATE SET                                          -- Update existing target columns with source values\n",
    "    target.sop = source.sop,\n",
    "    target.meth_id = source.meth_id,\n",
    "    target.temp_id = source.temp_id,\n",
    "    target.report_template_version = source.report_template_version,\n",
    "    target.seq_id = source.seq_id,\n",
    "    target.seq_version = source.seq_version\n",
    "WHEN NOT MATCHED THEN                                  -- If no matching row found in target\n",
    "  INSERT (                                            -- Insert new row with source values\n",
    "    time,\n",
    "    sop,\n",
    "    method_id,\n",
    "    meth_id,\n",
    "    temp_id,\n",
    "    report_template_version,\n",
    "    seq_id,\n",
    "    seq_version\n",
    "  )\n",
    "  VALUES (\n",
    "    source.time,\n",
    "    source.sop,\n",
    "    source.method_id,\n",
    "    source.meth_id,\n",
    "    source.temp_id,\n",
    "    source.report_template_version,\n",
    "    source.seq_id,\n",
    "    source.seq_version\n",
    "  );\n"
   ]
  }
 ],
 "metadata": {
  "application/vnd.databricks.v1+notebook": {
   "computePreferences": null,
   "dashboards": [],
   "environmentMetadata": {
    "base_environment": "",
    "environment_version": "2"
   },
   "inputWidgetPreferences": null,
   "language": "python",
   "notebookMetadata": {
    "mostRecentlyExecutedCommandWithImplicitDF": {
     "commandId": 8891634269854877,
     "dataframes": [
      "_sqldf"
     ]
    },
    "pythonIndentUnit": 4
   },
   "notebookName": "stg_methods",
   "widgets": {}
  },
  "language_info": {
   "name": "python"
  }
 },
 "nbformat": 4,
 "nbformat_minor": 0
}
