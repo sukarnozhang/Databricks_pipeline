{
 "cells": [
  {
   "cell_type": "code",
   "execution_count": 0,
   "metadata": {
    "application/vnd.databricks.v1+cell": {
     "cellMetadata": {
      "byteLimit": 2048000,
      "implicitDf": true,
      "rowLimit": 10000
     },
     "inputWidgets": {},
     "nuid": "2f949eb2-0189-43be-bb56-cf76d24bbb3b",
     "showTitle": false,
     "tableResultSettingsMap": {},
     "title": ""
    }
   },
   "outputs": [],
   "source": [
    "%sql\n",
    "MERGE INTO workspace.gold_staging.stg_sst AS target\n",
    "USING (\n",
    "  SELECT * FROM (\n",
    "    SELECT\n",
    "      silver.time,\n",
    "      sst_item.fk,\n",
    "      sst_item.sst_res.number,\n",
    "      sst_item.sst_res.in_num,\n",
    "      sst_item.sst_res.in_name,\n",
    "      sst_item.sst_res.sst_name,\n",
    "      sst_item.sst_res.peak,\n",
    "      sst_item.sst_res.eval_result,\n",
    "      sst_item.sst_res.result,\n",
    "      ROW_NUMBER() OVER (\n",
    "        PARTITION BY silver.time, sst_item.fk\n",
    "        ORDER BY silver.time\n",
    "      ) AS rn\n",
    "    FROM workspace.silver_schema.silver_delta_table AS silver\n",
    "    LATERAL VIEW EXPLODE(silver.sst) AS sst_item\n",
    "  ) WHERE rn = 1\n",
    ") AS source\n",
    "ON target.fk = source.fk\n",
    "AND target.time = source.time\n",
    "WHEN MATCHED THEN\n",
    "  UPDATE SET\n",
    "    target.number = source.number,\n",
    "    target.in_num = source.in_num,\n",
    "    target.in_name = source.in_name,\n",
    "    target.sst_name = source.sst_name,\n",
    "    target.peak = source.peak,\n",
    "    target.eval_result = source.eval_result,\n",
    "    target.result = source.result\n",
    "WHEN NOT MATCHED THEN\n",
    "  INSERT (\n",
    "    time,\n",
    "    fk,\n",
    "    number,\n",
    "    in_num,\n",
    "    in_name,\n",
    "    sst_name,\n",
    "    peak,\n",
    "    eval_result,\n",
    "    result\n",
    "  )\n",
    "  VALUES (\n",
    "    source.time,\n",
    "    source.fk,\n",
    "    source.number,\n",
    "    source.in_num,\n",
    "    source.in_name,\n",
    "    source.sst_name,\n",
    "    source.peak,\n",
    "    source.eval_result,\n",
    "    source.result\n",
    "  );\n"
   ]
  }
 ],
 "metadata": {
  "application/vnd.databricks.v1+notebook": {
   "computePreferences": null,
   "dashboards": [],
   "environmentMetadata": {
    "base_environment": "",
    "environment_version": "2"
   },
   "inputWidgetPreferences": null,
   "language": "python",
   "notebookMetadata": {
    "mostRecentlyExecutedCommandWithImplicitDF": {
     "commandId": 8891634269854881,
     "dataframes": [
      "_sqldf"
     ]
    },
    "pythonIndentUnit": 4
   },
   "notebookName": "stg_sst",
   "widgets": {}
  },
  "language_info": {
   "name": "python"
  }
 },
 "nbformat": 4,
 "nbformat_minor": 0
}
