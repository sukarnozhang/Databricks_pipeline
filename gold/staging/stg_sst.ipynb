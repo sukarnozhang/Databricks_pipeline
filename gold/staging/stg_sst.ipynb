{
 "cells": [
  {
   "cell_type": "code",
   "execution_count": 0,
   "metadata": {
    "application/vnd.databricks.v1+cell": {
     "cellMetadata": {
      "byteLimit": 2048000,
      "implicitDf": true,
      "rowLimit": 10000
     },
     "inputWidgets": {},
     "nuid": "2f949eb2-0189-43be-bb56-cf76d24bbb3b",
     "showTitle": false,
     "tableResultSettingsMap": {},
     "title": ""
    }
   },
   "outputs": [],
   "source": [
    "%sql\n",
    "CREATE VIEW IF NOT EXISTS workspace.gold_staging.stg_sst\n",
    "AS\n",
    "SELECT\n",
    "  silver.time,\n",
    "  sst_item.fk,\n",
    "  sst_item.sst_res.number,\n",
    "  sst_item.sst_res.in_num,\n",
    "  sst_item.sst_res.in_name,\n",
    "  sst_item.sst_res.sst_name,\n",
    "  sst_item.sst_res.peak,\n",
    "  sst_item.sst_res.eval_result,\n",
    "  sst_item.sst_res.result\n",
    "FROM workspace.silver_schema.silver_delta_table AS silver\n",
    "LATERAL VIEW EXPLODE(silver.sst) AS sst_item;\n",
    "\n"
   ]
  }
 ],
 "metadata": {
  "application/vnd.databricks.v1+notebook": {
   "computePreferences": null,
   "dashboards": [],
   "environmentMetadata": {
    "base_environment": "",
    "environment_version": "2"
   },
   "inputWidgetPreferences": null,
   "language": "python",
   "notebookMetadata": {
    "mostRecentlyExecutedCommandWithImplicitDF": {
     "commandId": 8891634269854881,
     "dataframes": [
      "_sqldf"
     ]
    },
    "pythonIndentUnit": 4
   },
   "notebookName": "stg_sst",
   "widgets": {}
  },
  "language_info": {
   "name": "python"
  }
 },
 "nbformat": 4,
 "nbformat_minor": 0
}
