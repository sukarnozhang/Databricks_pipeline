{
 "cells": [
  {
   "cell_type": "code",
   "execution_count": 0,
   "metadata": {
    "application/vnd.databricks.v1+cell": {
     "cellMetadata": {
      "byteLimit": 2048000,
      "implicitDf": true,
      "rowLimit": 10000
     },
     "inputWidgets": {},
     "nuid": "7eed6b12-01d6-45b8-a7a6-9bdccb044157",
     "showTitle": false,
     "tableResultSettingsMap": {},
     "title": ""
    }
   },
   "outputs": [],
   "source": [
    "%sql\n",
    "CREATE TABLE IF NOT EXISTS workspace.gold_staging.stg_systems\n",
    "USING DELTA\n",
    "AS\n",
    "SELECT\n",
    "  time,\n",
    "  systems.equipment_id,\n",
    "  systems.im_id,\n",
    "  systems.component.columns.column_id\n",
    "FROM workspace.silver_schema.silver_delta_table;\n",
    "\n",
    "MERGE INTO workspace.gold_staging.stg_systems AS target\n",
    "USING (\n",
    "  SELECT * FROM (\n",
    "    SELECT\n",
    "      time,\n",
    "      systems.equipment_id,\n",
    "      systems.im_id,\n",
    "      systems.component.columns.column_id,\n",
    "      ROW_NUMBER() OVER (\n",
    "        PARTITION BY time, systems.equipment_id  -- dedup by key columns\n",
    "        ORDER BY time DESC                       -- keep latest (or earliest) row\n",
    "      ) AS rn\n",
    "    FROM workspace.silver_schema.silver_delta_table\n",
    "  ) WHERE rn = 1\n",
    ") AS source\n",
    "ON target.equipment_id = source.equipment_id\n",
    "AND target.time = source.time\n",
    "WHEN MATCHED THEN\n",
    "  UPDATE SET\n",
    "    target.im_id = source.im_id,\n",
    "    target.column_id = source.column_id\n",
    "WHEN NOT MATCHED THEN\n",
    "  INSERT (time, equipment_id, im_id, column_id)\n",
    "  VALUES (source.time, source.equipment_id, source.im_id, source.column_id);\n"
   ]
  }
 ],
 "metadata": {
  "application/vnd.databricks.v1+notebook": {
   "computePreferences": null,
   "dashboards": [],
   "environmentMetadata": {
    "base_environment": "",
    "environment_version": "2"
   },
   "inputWidgetPreferences": null,
   "language": "python",
   "notebookMetadata": {
    "mostRecentlyExecutedCommandWithImplicitDF": {
     "commandId": 8891634269854885,
     "dataframes": [
      "_sqldf"
     ]
    },
    "pythonIndentUnit": 4
   },
   "notebookName": "stg_systems",
   "widgets": {}
  },
  "language_info": {
   "name": "python"
  }
 },
 "nbformat": 4,
 "nbformat_minor": 0
}
