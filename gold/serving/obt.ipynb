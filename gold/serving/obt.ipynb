{
 "cells": [
  {
   "cell_type": "code",
   "execution_count": 0,
   "metadata": {
    "application/vnd.databricks.v1+cell": {
     "cellMetadata": {
      "byteLimit": 2048000,
      "implicitDf": true,
      "rowLimit": 10000
     },
     "inputWidgets": {},
     "nuid": "bd9786a8-5c76-437e-a282-5ff393c46bc9",
     "showTitle": false,
     "tableResultSettingsMap": {},
     "title": ""
    }
   },
   "outputs": [],
   "source": [
    "%sql\n",
    "CREATE TABLE IF NOT EXISTS workspace.gold_serving.obt\n",
    "USING DELTA\n",
    "PARTITIONED BY (run_time)\n",
    "AS\n",
    "SELECT\n",
    "  cr.*,\n",
    "  dm.sop,\n",
    "  dm.method_id,\n",
    "  dm.meth_id,\n",
    "  dm.temp_id,\n",
    "  dm.report_template_version,\n",
    "  dm.seq_id,\n",
    "  dm.seq_version,\n",
    "  ds.equipment_id,\n",
    "  ds.im_id,\n",
    "  ds.column_id,\n",
    "  du.submit_id,\n",
    "  du.submit_datetime,\n",
    "  du.review_id,\n",
    "  du.review_datetime,\n",
    "  du.approval_id,\n",
    "  du.approval_datetime,\n",
    "  du.status\n",
    "FROM workspace.gold_serving.run_sst_result cr\n",
    "LEFT JOIN workspace.gold_serving.dimension_methods dm\n",
    "  ON cr.pk = dm.method_id OR cr.run_time = dm.time\n",
    "LEFT JOIN workspace.gold_serving.dimension_systems ds\n",
    "  ON cr.pk = ds.pk OR cr.run_time = ds.time\n",
    "LEFT JOIN workspace.gold_serving.dimension_users du\n",
    "  ON cr.pk = du.pk OR cr.run_time = du.time;\n",
    "\n",
    "\n",
    "MERGE INTO workspace.gold_serving.obt AS target\n",
    "USING (\n",
    "  SELECT * FROM (\n",
    "    SELECT\n",
    "      cr.*,\n",
    "      dm.sop,\n",
    "      dm.method_id,\n",
    "      dm.meth_id,\n",
    "      dm.temp_id,\n",
    "      dm.report_template_version,\n",
    "      dm.seq_id,\n",
    "      dm.seq_version,\n",
    "      ds.equipment_id,\n",
    "      ds.im_id,\n",
    "      ds.column_id,\n",
    "      du.submit_id,\n",
    "      du.submit_datetime,\n",
    "      du.review_id,\n",
    "      du.review_datetime,\n",
    "      du.approval_id,\n",
    "      du.approval_datetime,\n",
    "      du.status,\n",
    "      ROW_NUMBER() OVER (\n",
    "        PARTITION BY cr.pk, cr.samp_id, cr.sst_number\n",
    "        ORDER BY cr.run_time DESC\n",
    "      ) AS rn\n",
    "    FROM workspace.gold_serving.run_sst_result cr\n",
    "    LEFT JOIN workspace.gold_serving.dimension_methods dm\n",
    "      ON cr.pk = dm.method_id OR cr.run_time = dm.time\n",
    "    LEFT JOIN workspace.gold_serving.dimension_systems ds\n",
    "      ON cr.pk = ds.pk OR cr.run_time = ds.time\n",
    "    LEFT JOIN workspace.gold_serving.dimension_users du\n",
    "      ON cr.pk = du.pk OR cr.run_time = du.time\n",
    "  ) WHERE rn = 1\n",
    ") AS source\n",
    "ON target.pk = source.pk\n",
    "AND target.run_time = source.run_time\n",
    "AND target.samp_id = source.samp_id\n",
    "AND target.sst_number = source.sst_number\n",
    "WHEN MATCHED THEN\n",
    "  UPDATE SET *\n",
    "WHEN NOT MATCHED THEN\n",
    "  INSERT *;\n",
    "\n"
   ]
  }
 ],
 "metadata": {
  "application/vnd.databricks.v1+notebook": {
   "computePreferences": null,
   "dashboards": [],
   "environmentMetadata": {
    "base_environment": "",
    "environment_version": "2"
   },
   "inputWidgetPreferences": null,
   "language": "python",
   "notebookMetadata": {
    "mostRecentlyExecutedCommandWithImplicitDF": {
     "commandId": 8891634269854901,
     "dataframes": [
      "_sqldf"
     ]
    },
    "pythonIndentUnit": 4
   },
   "notebookName": "obt",
   "widgets": {}
  },
  "language_info": {
   "name": "python"
  }
 },
 "nbformat": 4,
 "nbformat_minor": 0
}
