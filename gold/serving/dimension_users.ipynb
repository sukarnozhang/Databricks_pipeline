{
 "cells": [
  {
   "cell_type": "code",
   "execution_count": 0,
   "metadata": {
    "application/vnd.databricks.v1+cell": {
     "cellMetadata": {
      "byteLimit": 2048000,
      "implicitDf": true,
      "rowLimit": 10000
     },
     "inputWidgets": {},
     "nuid": "02855c95-fa83-4143-b673-d82e8a71f693",
     "showTitle": false,
     "tableResultSettingsMap": {},
     "title": ""
    }
   },
   "outputs": [],
   "source": [
    "%sql\n",
    "CREATE TABLE IF NOT EXISTS workspace.gold_serving.dimension_users\n",
    "USING DELTA\n",
    "AS\n",
    "SELECT\n",
    "  time,\n",
    "  submit_id,\n",
    "  submit_datetime,\n",
    "  review_id,\n",
    "  review_datetime,\n",
    "  approval_id,\n",
    "  approval_datetime,\n",
    "  status\n",
    "FROM workspace.gold_staging.stg_users;\n",
    "\n",
    "MERGE INTO workspace.gold_serving.dimension_users AS target\n",
    "USING (\n",
    "  SELECT * FROM (\n",
    "    SELECT\n",
    "      time,\n",
    "      submit_id,\n",
    "      submit_datetime,\n",
    "      review_id,\n",
    "      review_datetime,\n",
    "      approval_id,\n",
    "      approval_datetime,\n",
    "      status,\n",
    "      ROW_NUMBER() OVER (\n",
    "        PARTITION BY time, submit_id -- or other unique keys\n",
    "        ORDER BY time DESC\n",
    "      ) AS rn\n",
    "    FROM workspace.gold_staging.stg_users\n",
    "  ) WHERE rn = 1\n",
    ") AS source\n",
    "ON target.submit_id = source.submit_id\n",
    "AND target.time = source.time\n",
    "WHEN MATCHED THEN\n",
    "  UPDATE SET\n",
    "    target.submit_datetime = source.submit_datetime,\n",
    "    target.review_id = source.review_id,\n",
    "    target.review_datetime = source.review_datetime,\n",
    "    target.approval_id = source.approval_id,\n",
    "    target.approval_datetime = source.approval_datetime,\n",
    "    target.status = source.status\n",
    "WHEN NOT MATCHED THEN\n",
    "  INSERT (\n",
    "    time,\n",
    "    submit_id,\n",
    "    submit_datetime,\n",
    "    review_id,\n",
    "    review_datetime,\n",
    "    approval_id,\n",
    "    approval_datetime,\n",
    "    status\n",
    "  )\n",
    "  VALUES (\n",
    "    source.time,\n",
    "    source.submit_id,\n",
    "    source.submit_datetime,\n",
    "    source.review_id,\n",
    "    source.review_datetime,\n",
    "    source.approval_id,\n",
    "    source.approval_datetime,\n",
    "    source.status\n",
    "  );\n",
    "\n"
   ]
  }
 ],
 "metadata": {
  "application/vnd.databricks.v1+notebook": {
   "computePreferences": null,
   "dashboards": [],
   "environmentMetadata": {
    "base_environment": "",
    "environment_version": "2"
   },
   "inputWidgetPreferences": null,
   "language": "python",
   "notebookMetadata": {
    "mostRecentlyExecutedCommandWithImplicitDF": {
     "commandId": 8891634269854889,
     "dataframes": [
      "_sqldf"
     ]
    },
    "pythonIndentUnit": 4
   },
   "notebookName": "dimension_users",
   "widgets": {}
  },
  "language_info": {
   "name": "python"
  }
 },
 "nbformat": 4,
 "nbformat_minor": 0
}
