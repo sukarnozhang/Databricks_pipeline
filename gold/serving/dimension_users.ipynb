{
 "cells": [
  {
   "cell_type": "code",
   "execution_count": 0,
   "metadata": {
    "application/vnd.databricks.v1+cell": {
     "cellMetadata": {
      "byteLimit": 2048000,
      "implicitDf": true,
      "rowLimit": 10000
     },
     "inputWidgets": {},
     "nuid": "02855c95-fa83-4143-b673-d82e8a71f693",
     "showTitle": false,
     "tableResultSettingsMap": {},
     "title": ""
    }
   },
   "outputs": [],
   "source": [
    "%sql\n",
    "CREATE OR REPLACE TABLE workspace.gold_serving.dimension_users\n",
    "USING DELTA\n",
    "AS\n",
    "SELECT\n",
    "  time,\n",
    "  submit_id,\n",
    "  submit_datetime,\n",
    "  review_id,\n",
    "  review_datetime,\n",
    "  approval_id,\n",
    "  approval_datetime,\n",
    "  status\n",
    "FROM workspace.gold_staging.stg_users;\n"
   ]
  }
 ],
 "metadata": {
  "application/vnd.databricks.v1+notebook": {
   "computePreferences": null,
   "dashboards": [],
   "environmentMetadata": {
    "base_environment": "",
    "environment_version": "2"
   },
   "inputWidgetPreferences": null,
   "language": "python",
   "notebookMetadata": {
    "mostRecentlyExecutedCommandWithImplicitDF": {
     "commandId": 5829407150882852,
     "dataframes": [
      "_sqldf"
     ]
    },
    "pythonIndentUnit": 4
   },
   "notebookName": "dimension_users",
   "widgets": {}
  },
  "language_info": {
   "name": "python"
  }
 },
 "nbformat": 4,
 "nbformat_minor": 0
}
