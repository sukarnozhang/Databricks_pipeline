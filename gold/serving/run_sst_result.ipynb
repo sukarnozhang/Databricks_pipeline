{
 "cells": [
  {
   "cell_type": "code",
   "execution_count": 0,
   "metadata": {
    "application/vnd.databricks.v1+cell": {
     "cellMetadata": {
      "byteLimit": 2048000,
      "implicitDf": true,
      "rowLimit": 10000
     },
     "inputWidgets": {},
     "nuid": "02d66efc-6d6e-4c48-a5d5-925163c1d7a8",
     "showTitle": false,
     "tableResultSettingsMap": {},
     "title": ""
    }
   },
   "outputs": [],
   "source": [
    "%sql\n",
    "CREATE TABLE IF NOT EXISTS workspace.gold_serving.run_sst_result\n",
    "USING DELTA\n",
    "AS\n",
    "SELECT\n",
    "  r.time AS run_time,\n",
    "  r.in_num,\n",
    "  r.in_name,\n",
    "  r.pk,\n",
    "\n",
    "  s.number AS sst_number,\n",
    "  s.in_num AS sst_in_num,\n",
    "  s.in_name AS sst_in_name,\n",
    "  s.sst_name,\n",
    "  s.peak,\n",
    "  s.eval_result,\n",
    "  s.result AS sst_result,\n",
    "\n",
    "  res.samp_id,\n",
    "  res.as_id,\n",
    "  res.Type,\n",
    "  res.comp,\n",
    "  res.unit,\n",
    "  res.det_id,\n",
    "  res.result AS assay_result,\n",
    "  res.number_of_averaged_samples\n",
    "\n",
    "FROM workspace.gold_serving.dimension_runs r\n",
    "LEFT JOIN workspace.gold_serving.fact_sst s\n",
    "  ON r.pk = s.fk\n",
    "LEFT JOIN workspace.gold_serving.fact_results res\n",
    "  ON r.pk = res.fk;\n",
    "\n",
    "MERGE INTO workspace.gold_serving.run_sst_result AS target\n",
    "USING (\n",
    "  SELECT * FROM (\n",
    "    SELECT\n",
    "      r.time AS run_time,\n",
    "      r.in_num,\n",
    "      r.in_name,\n",
    "      r.pk,\n",
    "\n",
    "      s.number AS sst_number,\n",
    "      s.in_num AS sst_in_num,\n",
    "      s.in_name AS sst_in_name,\n",
    "      s.sst_name,\n",
    "      s.peak,\n",
    "      s.eval_result,\n",
    "      s.result AS sst_result,\n",
    "\n",
    "      res.samp_id,\n",
    "      res.as_id,\n",
    "      res.Type,\n",
    "      res.comp,\n",
    "      res.unit,\n",
    "      res.det_id,\n",
    "      res.result AS assay_result,\n",
    "      res.number_of_averaged_samples,\n",
    "\n",
    "      ROW_NUMBER() OVER (\n",
    "        PARTITION BY r.pk, s.number, res.samp_id\n",
    "        ORDER BY r.time DESC\n",
    "      ) AS rn\n",
    "    FROM workspace.gold_serving.dimension_runs r\n",
    "    LEFT JOIN workspace.gold_serving.fact_sst s ON r.pk = s.fk\n",
    "    LEFT JOIN workspace.gold_se_\n"
   ]
  }
 ],
 "metadata": {
  "application/vnd.databricks.v1+notebook": {
   "computePreferences": null,
   "dashboards": [],
   "environmentMetadata": {
    "base_environment": "",
    "environment_version": "2"
   },
   "inputWidgetPreferences": null,
   "language": "python",
   "notebookMetadata": {
    "mostRecentlyExecutedCommandWithImplicitDF": {
     "commandId": 8891634269854899,
     "dataframes": [
      "_sqldf"
     ]
    },
    "pythonIndentUnit": 4
   },
   "notebookName": "run_sst_result",
   "widgets": {}
  },
  "language_info": {
   "name": "python"
  }
 },
 "nbformat": 4,
 "nbformat_minor": 0
}
