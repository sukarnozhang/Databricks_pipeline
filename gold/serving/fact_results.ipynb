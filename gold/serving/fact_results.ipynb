{
 "cells": [
  {
   "cell_type": "code",
   "execution_count": 0,
   "metadata": {
    "application/vnd.databricks.v1+cell": {
     "cellMetadata": {
      "byteLimit": 2048000,
      "implicitDf": true,
      "rowLimit": 10000
     },
     "inputWidgets": {},
     "nuid": "cc8aa9e0-1e03-493a-93ff-c21a64c87419",
     "showTitle": false,
     "tableResultSettingsMap": {},
     "title": ""
    }
   },
   "outputs": [],
   "source": [
    "%sql\n",
    "CREATE TABLE IF NOT EXISTS workspace.gold_serving.fact_results\n",
    "USING DELTA\n",
    "AS\n",
    "SELECT\n",
    "  time,\n",
    "  fk,\n",
    "  samp_id,\n",
    "  as_id,\n",
    "  Type,\n",
    "  comp,\n",
    "  unit,\n",
    "  det_id,\n",
    "  result,\n",
    "  number_of_averaged_samples\n",
    "FROM workspace.gold_staging.stg_results;\n",
    "\n",
    "MERGE INTO workspace.gold_serving.fact_results AS target\n",
    "USING (\n",
    "  SELECT * FROM (\n",
    "    SELECT\n",
    "      time,\n",
    "      fk,\n",
    "      samp_id,\n",
    "      as_id,\n",
    "      Type,\n",
    "      comp,\n",
    "      unit,\n",
    "      det_id,\n",
    "      result,\n",
    "      number_of_averaged_samples,\n",
    "      ROW_NUMBER() OVER (\n",
    "        PARTITION BY time, fk, samp_id\n",
    "        ORDER BY time DESC\n",
    "      ) AS rn\n",
    "    FROM workspace.gold_staging.stg_results\n",
    "  ) WHERE rn = 1\n",
    ") AS source\n",
    "ON target.fk = source.fk\n",
    "AND target.time = source.time\n",
    "\n",
    "WHEN MATCHED THEN\n",
    "  UPDATE SET\n",
    "    target.as_id = source.as_id,\n",
    "    target.samp_id = source.samp_id,\n",
    "    target.Type = source.Type,\n",
    "    target.comp = source.comp,\n",
    "    target.unit = source.unit,\n",
    "    target.det_id = source.det_id,\n",
    "    target.result = source.result,\n",
    "    target.number_of_averaged_samples = source.number_of_averaged_samples\n",
    "WHEN NOT MATCHED THEN\n",
    "  INSERT (\n",
    "    time,\n",
    "    fk,\n",
    "    samp_id,\n",
    "    as_id,\n",
    "    Type,\n",
    "    comp,\n",
    "    unit,\n",
    "    det_id,\n",
    "    result,\n",
    "    number_of_averaged_samples\n",
    "  )\n",
    "  VALUES (\n",
    "    source.time,\n",
    "    source.fk,\n",
    "    source.samp_id,\n",
    "    source.as_id,\n",
    "    source.Type,\n",
    "    source.comp,\n",
    "    source.unit,\n",
    "    source.det_id,\n",
    "    source.result,\n",
    "    source.number_of_averaged_samples\n",
    "  );\n"
   ]
  }
 ],
 "metadata": {
  "application/vnd.databricks.v1+notebook": {
   "computePreferences": null,
   "dashboards": [],
   "environmentMetadata": {
    "base_environment": "",
    "environment_version": "2"
   },
   "inputWidgetPreferences": null,
   "language": "python",
   "notebookMetadata": {
    "mostRecentlyExecutedCommandWithImplicitDF": {
     "commandId": 8891634269854891,
     "dataframes": [
      "_sqldf"
     ]
    },
    "pythonIndentUnit": 4
   },
   "notebookName": "fact_results",
   "widgets": {}
  },
  "language_info": {
   "name": "python"
  }
 },
 "nbformat": 4,
 "nbformat_minor": 0
}
