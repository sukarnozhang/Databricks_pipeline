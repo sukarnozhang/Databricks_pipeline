{
 "cells": [
  {
   "cell_type": "code",
   "execution_count": 0,
   "metadata": {
    "application/vnd.databricks.v1+cell": {
     "cellMetadata": {
      "byteLimit": 2048000,
      "implicitDf": true,
      "rowLimit": 10000
     },
     "inputWidgets": {},
     "nuid": "88c84f9e-394d-41da-bbd8-1a7185affbee",
     "showTitle": false,
     "tableResultSettingsMap": {},
     "title": ""
    }
   },
   "outputs": [],
   "source": [
    "%sql\n",
    "CREATE TABLE IF NOT EXISTS workspace.gold_serving.dimension_runs\n",
    "USING DELTA\n",
    "AS\n",
    "SELECT\n",
    "  time,\n",
    "  in_num,\n",
    "  in_name,\n",
    "  pk\n",
    "FROM workspace.gold_staging.stg_runs;\n",
    "\n",
    "MERGE INTO workspace.gold_serving.dimension_runs AS target\n",
    "USING (\n",
    "  SELECT * FROM (\n",
    "    SELECT\n",
    "      time,\n",
    "      in_num,\n",
    "      in_name,\n",
    "      pk,\n",
    "      ROW_NUMBER() OVER (\n",
    "        PARTITION BY time, in_num\n",
    "        ORDER BY time DESC\n",
    "      ) AS rn\n",
    "    FROM workspace.gold_staging.stg_runs\n",
    "  ) sub\n",
    "  WHERE rn = 1\n",
    ") AS source\n",
    "ON target.in_num = source.in_num\n",
    "AND target.\n"
   ]
  }
 ],
 "metadata": {
  "application/vnd.databricks.v1+notebook": {
   "computePreferences": null,
   "dashboards": [],
   "environmentMetadata": {
    "base_environment": "",
    "environment_version": "2"
   },
   "inputWidgetPreferences": null,
   "language": "python",
   "notebookMetadata": {
    "mostRecentlyExecutedCommandWithImplicitDF": {
     "commandId": 8891634269854893,
     "dataframes": [
      "_sqldf"
     ]
    },
    "pythonIndentUnit": 4
   },
   "notebookName": "dimension_runs",
   "widgets": {}
  },
  "language_info": {
   "name": "python"
  }
 },
 "nbformat": 4,
 "nbformat_minor": 0
}
