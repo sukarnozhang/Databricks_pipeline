{
 "cells": [
  {
   "cell_type": "code",
   "execution_count": 0,
   "metadata": {
    "application/vnd.databricks.v1+cell": {
     "cellMetadata": {
      "byteLimit": 2048000,
      "implicitDf": true,
      "rowLimit": 10000
     },
     "inputWidgets": {},
     "nuid": "ff490833-284d-471b-ad6b-bc798ba8754e",
     "showTitle": false,
     "tableResultSettingsMap": {},
     "title": ""
    }
   },
   "outputs": [],
   "source": [
    "%sql\n",
    "CREATE TABLE IF NOT EXISTS workspace.gold_serving.dimension_methods\n",
    "USING DELTA\n",
    "AS\n",
    "SELECT\n",
    "  time,\n",
    "  sop,\n",
    "  method_id,\n",
    "  meth_id,\n",
    "  temp_id,\n",
    "  report_template_version,\n",
    "  seq_id,\n",
    "  seq_version\n",
    "FROM workspace.gold_staging.stg_methods;\n",
    "\n",
    "MERGE INTO workspace.gold_serving.dimension_methods AS target\n",
    "USING (\n",
    "  SELECT * FROM (\n",
    "    SELECT\n",
    "      time,\n",
    "      sop,\n",
    "      method_id,\n",
    "      meth_id,\n",
    "      temp_id,\n",
    "      report_template_version,\n",
    "      seq_id,\n",
    "      seq_version,\n",
    "      ROW_NUMBER() OVER (\n",
    "        PARTITION BY time, method_id\n",
    "        ORDER BY time DESC\n",
    "      ) AS rn\n",
    "    FROM workspace.gold_staging.stg_methods\n",
    "  ) WHERE rn = 1  -- Filter duplicates inside the subquery\n",
    ") AS source\n",
    "ON target.method_id = source.method_id\n",
    "AND target.time = source.time\n",
    "WHEN MATCHED THEN\n",
    "  UPDATE SET\n",
    "    target.sop = source.sop,\n",
    "    target.meth_id = source.meth_id,\n",
    "    target.temp_id = source.temp_id,\n",
    "    target.report_template_version = source.report_template_version,\n",
    "    target.seq_id = source.seq_id,\n",
    "    target.seq_version = source.seq_version\n",
    "WHEN NOT MATCHED THEN\n",
    "  INSERT (\n",
    "    time,\n",
    "    sop,\n",
    "    method_id,\n",
    "    meth_id,\n",
    "    temp_id,\n",
    "    report_template_version,\n",
    "    seq_id,\n",
    "    seq_version\n",
    "  )\n",
    "  VALUES (\n",
    "    source.time,\n",
    "    source.sop,\n",
    "    source.method_id,\n",
    "    source.meth_id,\n",
    "    source.temp_id,\n",
    "    source.report_template_version,\n",
    "    source.seq_id,\n",
    "    source.seq_version\n",
    "  )\n"
   ]
  }
 ],
 "metadata": {
  "application/vnd.databricks.v1+notebook": {
   "computePreferences": null,
   "dashboards": [],
   "environmentMetadata": {
    "base_environment": "",
    "environment_version": "2"
   },
   "inputWidgetPreferences": null,
   "language": "python",
   "notebookMetadata": {
    "mostRecentlyExecutedCommandWithImplicitDF": {
     "commandId": 8891634269854887,
     "dataframes": [
      "_sqldf"
     ]
    },
    "pythonIndentUnit": 4
   },
   "notebookName": "dimension_methods",
   "widgets": {}
  },
  "language_info": {
   "name": "python"
  }
 },
 "nbformat": 4,
 "nbformat_minor": 0
}
