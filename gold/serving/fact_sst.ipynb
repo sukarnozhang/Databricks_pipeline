{
 "cells": [
  {
   "cell_type": "code",
   "execution_count": 0,
   "metadata": {
    "application/vnd.databricks.v1+cell": {
     "cellMetadata": {
      "byteLimit": 2048000,
      "implicitDf": true,
      "rowLimit": 10000
     },
     "inputWidgets": {},
     "nuid": "eb8140c7-ff83-48ee-8840-bbe190211662",
     "showTitle": false,
     "tableResultSettingsMap": {},
     "title": ""
    }
   },
   "outputs": [],
   "source": [
    "%sql\n",
    "CREATE TABLE IF NOT EXISTS workspace.gold_serving.fact_sst\n",
    "USING DELTA\n",
    "AS\n",
    "SELECT\n",
    "  time,\n",
    "  fk,\n",
    "  number,\n",
    "  in_num,\n",
    "  in_name,\n",
    "  sst_name,\n",
    "  peak,\n",
    "  eval_result,\n",
    "  result\n",
    "FROM workspace.gold_staging.stg_sst;\n",
    "\n",
    "MERGE INTO workspace.gold_serving.fact_sst AS target\n",
    "USING (\n",
    "  SELECT * FROM (\n",
    "    SELECT\n",
    "      time,\n",
    "      fk,\n",
    "      number,\n",
    "      in_num,\n",
    "      in_name,\n",
    "      sst_name,\n",
    "      peak,\n",
    "      eval_result,\n",
    "      result,\n",
    "      ROW_NUMBER() OVER (\n",
    "        PARTITION BY time, fk\n",
    "        ORDER BY time DESC\n",
    "      ) AS rn\n",
    "    FROM workspace.gold_staging.stg_sst\n",
    "  ) sub\n",
    "  WHERE rn = 1\n",
    ") AS source\n",
    "ON target.fk = source.fk\n",
    "AND target.time = source.time\n",
    "WHEN MATCHED THEN\n",
    "  UPDATE SET\n",
    "    target.in_num = source.in_num,\n",
    "    target.number = source.number,\n",
    "    target.in_name = source.in_name,\n",
    "    target.sst_name = source.sst_name,\n",
    "    target.peak = source.peak,\n",
    "    target.eval_result = source.eval_result,\n",
    "    target.result = source.result\n",
    "WHEN NOT MATCHED THEN\n",
    "  INSERT (\n",
    "    time,\n",
    "    fk,\n",
    "    number,\n",
    "    in_num,\n",
    "    in_name,\n",
    "    sst_name,\n",
    "    peak,\n",
    "    eval_result,\n",
    "    result\n",
    "  )\n",
    "  VALUES (\n",
    "    source.time,\n",
    "    source.fk,\n",
    "    source.number,\n",
    "    source.in_num,\n",
    "    source.in_name,\n",
    "    source.sst_name,\n",
    "    source.peak,\n",
    "    source.eval_result,\n",
    "    source.result\n",
    "  );\n"
   ]
  }
 ],
 "metadata": {
  "application/vnd.databricks.v1+notebook": {
   "computePreferences": null,
   "dashboards": [],
   "environmentMetadata": {
    "base_environment": "",
    "environment_version": "2"
   },
   "inputWidgetPreferences": null,
   "language": "python",
   "notebookMetadata": {
    "mostRecentlyExecutedCommandWithImplicitDF": {
     "commandId": 6742973640128793,
     "dataframes": [
      "_sqldf"
     ]
    },
    "pythonIndentUnit": 4
   },
   "notebookName": "fact_sst",
   "widgets": {}
  },
  "language_info": {
   "name": "python"
  }
 },
 "nbformat": 4,
 "nbformat_minor": 0
}
