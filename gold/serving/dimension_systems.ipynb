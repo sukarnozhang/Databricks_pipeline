{
 "cells": [
  {
   "cell_type": "code",
   "execution_count": 0,
   "metadata": {
    "application/vnd.databricks.v1+cell": {
     "cellMetadata": {
      "byteLimit": 2048000,
      "implicitDf": true,
      "rowLimit": 10000
     },
     "inputWidgets": {},
     "nuid": "f395dca8-d9a8-4c7f-9f0a-72c77cad1742",
     "showTitle": false,
     "tableResultSettingsMap": {},
     "title": ""
    }
   },
   "outputs": [],
   "source": [
    "%sql\n",
    "CREATE TABLE IF NOT EXISTS workspace.gold_serving.dimension_systems (\n",
    "  time TIMESTAMP,\n",
    "  equipment_id STRING,\n",
    "  im_id STRING,\n",
    "  column_id STRING\n",
    ") USING DELTA;\n",
    "\n",
    "MERGE INTO workspace.gold_serving.dimension_systems AS target\n",
    "USING (\n",
    "  SELECT * FROM (\n",
    "    SELECT\n",
    "      time,\n",
    "      equipment_id,\n",
    "      im_id,\n",
    "      column_id,\n",
    "      ROW_NUMBER() OVER (\n",
    "        PARTITION BY time, equipment_id, im_id\n",
    "        ORDER BY time DESC\n",
    "      ) AS rn\n",
    "    FROM workspace.gold_staging.stg_systems\n",
    "  ) sub\n",
    "  WHERE rn = 1\n",
    ") AS source\n",
    "ON target.time = source.time\n",
    "AND target.im_id = source.im_id\n",
    "WHEN MATCHED THEN\n",
    "  UPDATE SET\n",
    "    target.equipment_id = source.equipment_id,\n",
    "    target.column_id = source.column_id\n",
    "WHEN NOT MATCHED THEN\n",
    "  INSERT (\n",
    "    time,\n",
    "    equipment_id,\n",
    "    im_id,\n",
    "    column_id\n",
    "  )\n",
    "  VALUES (\n",
    "    source.time,\n",
    "    source.equipment_id,\n",
    "    source.im_id,\n",
    "    source.column_id\n",
    "  );\n"
   ]
  }
 ],
 "metadata": {
  "application/vnd.databricks.v1+notebook": {
   "computePreferences": null,
   "dashboards": [],
   "environmentMetadata": {
    "base_environment": "",
    "environment_version": "2"
   },
   "inputWidgetPreferences": null,
   "language": "python",
   "notebookMetadata": {
    "mostRecentlyExecutedCommandWithImplicitDF": {
     "commandId": 8891634269854897,
     "dataframes": [
      "_sqldf"
     ]
    },
    "pythonIndentUnit": 4
   },
   "notebookName": "dimension_systems",
   "widgets": {}
  },
  "language_info": {
   "name": "python"
  }
 },
 "nbformat": 4,
 "nbformat_minor": 0
}
