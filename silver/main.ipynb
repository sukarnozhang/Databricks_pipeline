{
 "cells": [
  {
   "cell_type": "code",
   "execution_count": 0,
   "metadata": {
    "application/vnd.databricks.v1+cell": {
     "cellMetadata": {
      "byteLimit": 2048000,
      "rowLimit": 10000
     },
     "inputWidgets": {},
     "nuid": "afa99938-d3c2-4be6-a674-78b568181734",
     "showTitle": false,
     "tableResultSettingsMap": {},
     "title": ""
    }
   },
   "outputs": [],
   "source": [
    "%run ./processor"
   ]
  },
  {
   "cell_type": "code",
   "execution_count": 0,
   "metadata": {
    "application/vnd.databricks.v1+cell": {
     "cellMetadata": {
      "byteLimit": 2048000,
      "rowLimit": 10000
     },
     "inputWidgets": {},
     "nuid": "0bd12e50-84f4-4b62-aac4-7dbcf8eee86e",
     "showTitle": false,
     "tableResultSettingsMap": {},
     "title": ""
    }
   },
   "outputs": [],
   "source": [
    "%run ./schema_definition"
   ]
  },
  {
   "cell_type": "code",
   "execution_count": 0,
   "metadata": {
    "application/vnd.databricks.v1+cell": {
     "cellMetadata": {
      "byteLimit": 2048000,
      "rowLimit": 10000
     },
     "inputWidgets": {},
     "nuid": "8ea34488-a4b7-41af-b8e5-824cb3b55997",
     "showTitle": false,
     "tableResultSettingsMap": {},
     "title": ""
    }
   },
   "outputs": [],
   "source": [
    "# from schema_definition import schema, tracking_table_schema\n",
    "import json\n",
    "from botocore.exceptions import NoCredentialsError\n",
    "from pyspark.sql import SparkSession\n",
    "from datetime import datetime, timezone\n",
    "from pyspark.sql.types import StructType, StructField, StringType, TimestampType\n",
    "import boto3\n",
    "\n",
    "# Initialize Spark session\n",
    "spark = SparkSession.builder.appName(\"S3_JSON_Loader\").getOrCreate()\n",
    "\n",
    "# Step 1 - Establish AWS connections\n",
    "s3 = establish_aws_connection()\n",
    "\n",
    "# Step 2 - Load the config and store the values into different variables\n",
    "config = load_config_txt(\"config.txt\")\n",
    "bucket = config[\"bucket\"]\n",
    "prefix = config[\"prefix\"]\n",
    "files_tracking = config[\"files_tracking\"]\n",
    "last_ingested_times = config[\"last_ingested_times\"]\n",
    "\n",
    "# Step 3 - create tracking tables for files which have been ingested and\n",
    "# the timestamp of the last ingested files (if not exists)\n",
    "create_table(files_tracking, files_tracking_schema)\n",
    "create_table(last_ingested_times, last_ingested_times_schema)\n",
    "\n",
    "# Step 4: Read the last ingested timestamp\n",
    "last_ingested_df = spark.read.table(last_ingested_times)\n",
    "# Extract the only timestamp value\n",
    "last_ingested_times = last_ingested_df.collect()[0][\"last_ingested_times\"]\n",
    "# Convert to UTC \n",
    "if last_ingested_times.tzinfo is None:\n",
    "    last_ingested_times = last_ingested_times.replace(tzinfo=timezone.utc)\n",
    "\n",
    "\n",
    "# Step 5: List all files in S3\n",
    "get_s3_data(s3, bucket, prefix, files_tracking, main_schema,last_ingested_times, files_tracking_schema)\n",
    "\n",
    "\n",
    "\n"
   ]
  }
 ],
 "metadata": {
  "application/vnd.databricks.v1+notebook": {
   "computePreferences": null,
   "dashboards": [],
   "environmentMetadata": {
    "base_environment": "",
    "environment_version": "2"
   },
   "inputWidgetPreferences": null,
   "language": "python",
   "notebookMetadata": {
    "pythonIndentUnit": 4
   },
   "notebookName": "main",
   "widgets": {}
  },
  "language_info": {
   "name": "python"
  }
 },
 "nbformat": 4,
 "nbformat_minor": 0
}
