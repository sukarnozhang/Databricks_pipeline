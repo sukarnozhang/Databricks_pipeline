{
 "cells": [
  {
   "cell_type": "code",
   "execution_count": 0,
   "metadata": {
    "application/vnd.databricks.v1+cell": {
     "cellMetadata": {
      "byteLimit": 2048000,
      "rowLimit": 10000
     },
     "inputWidgets": {},
     "nuid": "afa99938-d3c2-4be6-a674-78b568181734",
     "showTitle": false,
     "tableResultSettingsMap": {},
     "title": ""
    }
   },
   "outputs": [],
   "source": [
    "%run ./processor"
   ]
  },
  {
   "cell_type": "code",
   "execution_count": 0,
   "metadata": {
    "application/vnd.databricks.v1+cell": {
     "cellMetadata": {
      "byteLimit": 2048000,
      "rowLimit": 10000
     },
     "inputWidgets": {},
     "nuid": "0bd12e50-84f4-4b62-aac4-7dbcf8eee86e",
     "showTitle": false,
     "tableResultSettingsMap": {},
     "title": ""
    }
   },
   "outputs": [],
   "source": [
    "%run ./schema_definition"
   ]
  },
  {
   "cell_type": "code",
   "execution_count": 0,
   "metadata": {
    "application/vnd.databricks.v1+cell": {
     "cellMetadata": {
      "byteLimit": 2048000,
      "rowLimit": 10000
     },
     "inputWidgets": {},
     "nuid": "8ea34488-a4b7-41af-b8e5-824cb3b55997",
     "showTitle": false,
     "tableResultSettingsMap": {},
     "title": ""
    }
   },
   "outputs": [],
   "source": [
    "# from schema_definition import schema\n",
    "import json\n",
    "from botocore.exceptions import NoCredentialsError\n",
    "from pyspark.sql import SparkSession\n",
    "from datetime import datetime, timezone\n",
    "from pyspark.sql.types import StructType, StructField, StringType, TimestampType\n",
    "import boto3\n",
    "\n",
    "# Initialize Spark session\n",
    "spark = SparkSession.builder.appName(\"S3_JSON_Loader\").getOrCreate()\n",
    "\n",
    "# Step 1 - Establish AWS connections\n",
    "s3 = establish_aws_connection()\n",
    "\n",
    "# Step 2 - Load the config and store the values into different variables\n",
    "config = load_config_txt(\"config.txt\")\n",
    "bucket = config[\"bucket\"]\n",
    "prefix = config[\"prefix\"]\n",
    "tracking_table = config[\"tracking_table\"]\n",
    "\n",
    "# Step 3 - create tracking tables for files which have been ingested if not exists\n",
    "# get the lists of ingested files\n",
    "create_ingested_files_log(tracking_table)\n",
    "ingested_files = get_ingested_files(tracking_table)\n",
    "\n",
    "# Step 4: List all files in S3\n",
    "all_data = [] # to store all new data from json\n",
    "# new_files_log = [] \n",
    "\n",
    "try:\n",
    "    response = s3.list_objects_v2(Bucket=bucket, Prefix=prefix)\n",
    "    for obj in response.get('Contents', []):\n",
    "        key = obj['Key']\n",
    "        last_modified = obj['LastModified']  # datetime in UTC\n",
    "\n",
    "        if key.endswith('.json') and key not in ingested_files:\n",
    "            # Download and parse\n",
    "            file_obj = s3.get_object(Bucket=bucket, Key=key)\n",
    "            json_data = file_obj['Body'].read().decode('utf-8')\n",
    "            data_dict = json.loads(json_data)\n",
    "            all_data.append(data_dict)\n",
    "\n",
    "            # Log the file for tracking\n",
    "            new_files_log.append((key, last_modified.isoformat(), datetime.now(timezone.utc).isoformat()))\n",
    "\n",
    "    print(f\"New JSON files to ingest: {len(new_files_log)}\")\n",
    "\n",
    "except NoCredentialsError:\n",
    "    print(\"AWS credentials not found!\")\n",
    "    all_data = []\n",
    "\n",
    "# Step 5: Create DataFrame and write to Delta\n",
    "if all_data:\n",
    "    silver_df = spark.createDataFrame(all_data, schema=schema)\n",
    "    #silver_df.show(truncate=False)\n",
    "\n",
    "    # Append new data\n",
    "    silver_df.write.format(\"delta\").mode(\"append\").saveAsTable(\"workspace.silver_schema.silver_delta_table\")\n",
    "    print(\"New data appended to Delta table.\")\n",
    "\n",
    "    # Step 6: Update tracking table\n",
    "    log_df = spark.createDataFrame(new_files_log, [\"file_name\", \"last_modified\", \"ingested_at\"])\n",
    "    log_df.write.format(\"delta\").mode(\"append\").saveAsTable(tracking_table)\n",
    "    print(\"Tracking table updated.\")\n",
    "else:\n",
    "    print(\"No new files to process.\")\n"
   ]
  }
 ],
 "metadata": {
  "application/vnd.databricks.v1+notebook": {
   "computePreferences": null,
   "dashboards": [],
   "environmentMetadata": {
    "base_environment": "",
    "environment_version": "2"
   },
   "inputWidgetPreferences": null,
   "language": "python",
   "notebookMetadata": {
    "pythonIndentUnit": 4
   },
   "notebookName": "main",
   "widgets": {}
  },
  "language_info": {
   "name": "python"
  }
 },
 "nbformat": 4,
 "nbformat_minor": 0
}
