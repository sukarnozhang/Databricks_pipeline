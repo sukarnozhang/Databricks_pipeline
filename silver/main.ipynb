{
 "cells": [
  {
   "cell_type": "code",
   "execution_count": 0,
   "metadata": {
    "application/vnd.databricks.v1+cell": {
     "cellMetadata": {
      "byteLimit": 2048000,
      "rowLimit": 10000
     },
     "inputWidgets": {},
     "nuid": "afa99938-d3c2-4be6-a674-78b568181734",
     "showTitle": false,
     "tableResultSettingsMap": {},
     "title": ""
    }
   },
   "outputs": [],
   "source": [
    "%run ./processor"
   ]
  },
  {
   "cell_type": "code",
   "execution_count": 0,
   "metadata": {
    "application/vnd.databricks.v1+cell": {
     "cellMetadata": {
      "byteLimit": 2048000,
      "rowLimit": 10000
     },
     "inputWidgets": {},
     "nuid": "0bd12e50-84f4-4b62-aac4-7dbcf8eee86e",
     "showTitle": false,
     "tableResultSettingsMap": {},
     "title": ""
    }
   },
   "outputs": [],
   "source": [
    "%run ./schema_definition"
   ]
  },
  {
   "cell_type": "code",
   "execution_count": 0,
   "metadata": {
    "application/vnd.databricks.v1+cell": {
     "cellMetadata": {
      "byteLimit": 2048000,
      "rowLimit": 10000
     },
     "inputWidgets": {},
     "nuid": "8ea34488-a4b7-41af-b8e5-824cb3b55997",
     "showTitle": false,
     "tableResultSettingsMap": {},
     "title": ""
    }
   },
   "outputs": [],
   "source": [
    "# from schema_definition import schema, tracking_table_schema\n",
    "import json\n",
    "from botocore.exceptions import NoCredentialsError\n",
    "from pyspark.sql import SparkSession\n",
    "from datetime import datetime, timezone\n",
    "from pyspark.sql.types import StructType, StructField, StringType, TimestampType\n",
    "import boto3\n",
    "\n",
    "# Initialize Spark session\n",
    "spark = SparkSession.builder.appName(\"S3_JSON_Loader\").getOrCreate()\n",
    "\n",
    "# Step 1 - Establish AWS connections\n",
    "s3 = establish_aws_connection()\n",
    "\n",
    "# Step 2 - Load the config and store the values into different variables\n",
    "config = load_config_txt(\"config.txt\")\n",
    "bucket = config[\"bucket\"]\n",
    "prefix = config[\"prefix\"]\n",
    "files_tracking = config[\"files_tracking\"]\n",
    "last_ingested_times = config[\"last_ingested_times\"]\n",
    "\n",
    "# Step 3 - create tracking tables for files which have been ingested if not exists\n",
    "# get the lists of ingested files\n",
    "create_table(files_tracking, files_tracking_schema)\n",
    "ingested_files = get_ingested_files(files_tracking)\n",
    "print(\"ingested files is:\", ingested_files)\n",
    "\n",
    "# Step 4 - a table to store the times of last ingested files\n",
    "create_table(last_ingested_times, last_ingested_times_schema)\n",
    "\n",
    "last_ingested_df = spark.read.table(last_ingested_times)\n",
    "\n",
    "# Extract the only timestamp value\n",
    "last_ingested_times = last_ingested_df.collect()[0][\"last_ingested_times\"]\n",
    "\n",
    "if last_ingested_times.tzinfo is None:\n",
    "    last_ingested_times = last_ingested_times.replace(tzinfo=timezone.utc)\n",
    "\n",
    "print(f\"Last ingested timestamp: {last_ingested_times}\")\n",
    "\n",
    "# Step 5: List all files in S3\n",
    "all_data = [] # to store all new data from json\n",
    "new_ingested_json = [] \n",
    "try:\n",
    "    response = s3.list_objects_v2(Bucket=bucket, Prefix=prefix)\n",
    "    for obj in response.get('Contents', []):\n",
    "        key = obj['Key']\n",
    "        last_modified = obj['LastModified']  # this is a datetime object in UTC\n",
    "\n",
    "        # Only ingest files modified after the last_ingested_times\n",
    "        if key.endswith('.json') and last_modified > last_ingested_times:\n",
    "            # Download and parse\n",
    "            file_obj = s3.get_object(Bucket=bucket, Key=key)\n",
    "            json_data = file_obj['Body'].read().decode('utf-8')\n",
    "            data_dict = json.loads(json_data)\n",
    "            all_data.append(data_dict)\n",
    "\n",
    "            # Log the file for tracking\n",
    "            new_ingested_json.append((key, datetime.now(timezone.utc)))\n",
    "\n",
    "    print(f\"New JSON files to ingest: {len(new_ingested_json)}\")\n",
    "\n",
    "except NoCredentialsError:\n",
    "    print(\"AWS credentials not found!\")\n",
    "    all_data = []\n",
    "\n",
    "# Step 6: Create DataFrame and write to Delta\n",
    "if all_data:\n",
    "    silver_df = spark.createDataFrame(all_data, schema=main_schema)\n",
    "\n",
    "    # Append new data\n",
    "    silver_df.write.format(\"delta\").mode(\"append\").saveAsTable(\"workspace.silver_schema.silver_delta_table\")\n",
    "    print(\"New data appended to Delta table.\")\n",
    "\n",
    "    # Step 7: Update tracking table\n",
    "    print(\"new files is:\", new_ingested_json)\n",
    "    new_ingested_json_df = spark.createDataFrame(new_ingested_json, schema=files_tracking_schema)\n",
    "    new_ingested_json_df.write \\\n",
    "    .format(\"delta\") \\\n",
    "    .option(\"mergeSchema\", \"true\") \\\n",
    "    .mode(\"append\") \\\n",
    "    .saveAsTable(files_tracking)\n",
    "\n",
    "\n",
    "else:\n",
    "    print(\"No new files to process.\")\n"
   ]
  }
 ],
 "metadata": {
  "application/vnd.databricks.v1+notebook": {
   "computePreferences": null,
   "dashboards": [],
   "environmentMetadata": {
    "base_environment": "",
    "environment_version": "2"
   },
   "inputWidgetPreferences": null,
   "language": "python",
   "notebookMetadata": {
    "pythonIndentUnit": 4
   },
   "notebookName": "main",
   "widgets": {}
  },
  "language_info": {
   "name": "python"
  }
 },
 "nbformat": 4,
 "nbformat_minor": 0
}
