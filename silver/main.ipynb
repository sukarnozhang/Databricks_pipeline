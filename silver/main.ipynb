{
 "cells": [
  {
   "cell_type": "code",
   "execution_count": 0,
   "metadata": {
    "application/vnd.databricks.v1+cell": {
     "cellMetadata": {
      "byteLimit": 2048000,
      "rowLimit": 10000
     },
     "inputWidgets": {},
     "nuid": "0bd12e50-84f4-4b62-aac4-7dbcf8eee86e",
     "showTitle": false,
     "tableResultSettingsMap": {},
     "title": ""
    }
   },
   "outputs": [],
   "source": [
    "%run ./schema_definition"
   ]
  },
  {
   "cell_type": "code",
   "execution_count": 0,
   "metadata": {
    "application/vnd.databricks.v1+cell": {
     "cellMetadata": {
      "byteLimit": 2048000,
      "rowLimit": 10000
     },
     "inputWidgets": {},
     "nuid": "6c59daaa-202f-4e4b-92a2-7a70f88441a1",
     "showTitle": false,
     "tableResultSettingsMap": {},
     "title": ""
    }
   },
   "outputs": [],
   "source": [
    "%run ./aws/s3_client"
   ]
  },
  {
   "cell_type": "code",
   "execution_count": 0,
   "metadata": {
    "application/vnd.databricks.v1+cell": {
     "cellMetadata": {},
     "inputWidgets": {},
     "nuid": "788ccc11-a64a-44b8-8740-e53176ebf79e",
     "showTitle": false,
     "tableResultSettingsMap": {},
     "title": ""
    }
   },
   "outputs": [],
   "source": []
  },
  {
   "cell_type": "code",
   "execution_count": 0,
   "metadata": {
    "application/vnd.databricks.v1+cell": {
     "cellMetadata": {
      "byteLimit": 2048000,
      "rowLimit": 10000
     },
     "inputWidgets": {},
     "nuid": "8ea34488-a4b7-41af-b8e5-824cb3b55997",
     "showTitle": false,
     "tableResultSettingsMap": {},
     "title": ""
    }
   },
   "outputs": [],
   "source": [
    "import json\n",
    "from botocore.exceptions import NoCredentialsError\n",
    "from datetime import datetime, timezone\n",
    "from pyspark.sql.types import StructType, StructField, StringType, TimestampType\n",
    "import boto3\n",
    "\n",
    "from spark.session import get_spark_session\n",
    "\n",
    "# Initialize Spark session\n",
    "spark = get_spark_session()\n",
    "\n",
    "# AWS client\n",
    "s3 = get_s3_client()\n",
    "\n",
    "# Step 2 - Load the config and store the values into different variables\n",
    "config = load_config_txt(\"config.txt\")\n",
    "bucket = config[\"bucket\"]\n",
    "prefix = config[\"prefix\"]\n",
    "files_tracking = config[\"files_tracking\"]\n",
    "last_ingested_times = config[\"last_ingested_times\"]\n",
    "\n",
    "# Step 3 - create tracking tables for files which have been ingested and\n",
    "# the timestamp of the last ingested files (if not exists)\n",
    "create_table(files_tracking, files_tracking_schema)\n",
    "create_table(last_ingested_times, last_ingested_times_schema)\n",
    "\n",
    "# Step 4: Read the last ingested timestamp\n",
    "last_ingested_df = spark.read.table(last_ingested_times)\n",
    "# Extract the only timestamp value\n",
    "last_ingested_times = last_ingested_df.collect()[0][\"last_ingested_times\"]\n",
    "# Convert to UTC \n",
    "if last_ingested_times.tzinfo is None:\n",
    "    last_ingested_times = last_ingested_times.replace(tzinfo=timezone.utc)\n",
    "\n",
    "\n",
    "# Step 5: List all files in S3\n",
    "get_s3_data(s3, bucket, prefix, files_tracking, main_schema,last_ingested_times, files_tracking_schema)\n",
    "\n",
    "\n",
    "\n"
   ]
  }
 ],
 "metadata": {
  "application/vnd.databricks.v1+notebook": {
   "computePreferences": null,
   "dashboards": [],
   "environmentMetadata": {
    "base_environment": "",
    "environment_version": "2"
   },
   "inputWidgetPreferences": null,
   "language": "python",
   "notebookMetadata": {
    "pythonIndentUnit": 4
   },
   "notebookName": "main",
   "widgets": {}
  },
  "language_info": {
   "name": "python"
  }
 },
 "nbformat": 4,
 "nbformat_minor": 0
}
