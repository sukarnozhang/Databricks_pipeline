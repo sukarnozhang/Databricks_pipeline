{
 "cells": [
  {
   "cell_type": "code",
   "execution_count": 0,
   "metadata": {
    "application/vnd.databricks.v1+cell": {
     "cellMetadata": {
      "byteLimit": 2048000,
      "rowLimit": 10000
     },
     "inputWidgets": {},
     "nuid": "df9c0924-c0e1-4691-878f-8efe09b47eff",
     "showTitle": false,
     "tableResultSettingsMap": {},
     "title": ""
    }
   },
   "outputs": [],
   "source": [
    "from pyspark.sql.types import *\n",
    "\n",
    "# Define schema for JSON\n",
    "schema = StructType([\n",
    "    StructField(\"time\", StringType(), True),\n",
    "\n",
    "    StructField(\"systems\", StructType([\n",
    "        StructField(\"equipment_id\", StringType(), True),\n",
    "        StructField(\"component\", StructType([\n",
    "            StructField(\"columns\", StructType([\n",
    "                StructField(\"column_id\", StringType(), True)\n",
    "            ]), True)\n",
    "        ]), True),\n",
    "        StructField(\"im_id\", StringType(), True)\n",
    "    ]), True),\n",
    "\n",
    "    StructField(\"users\", StructType([\n",
    "        StructField(\"my_submit\", StructType([\n",
    "            StructField(\"id\", StringType(), True),\n",
    "            StructField(\"datetime\", StringType(), True)\n",
    "        ]), True),\n",
    "        StructField(\"my_review\", StructType([\n",
    "            StructField(\"id\", StringType(), True),\n",
    "            StructField(\"datetime\", StringType(), True)\n",
    "        ]), True),\n",
    "        StructField(\"my_approval\", StructType([\n",
    "            StructField(\"id\", StringType(), True),\n",
    "            StructField(\"datetime\", StringType(), True)\n",
    "        ]), True),\n",
    "        StructField(\"my_status\", StructType([\n",
    "            StructField(\"status\", StringType(), True)\n",
    "        ]), True)\n",
    "    ]), True),\n",
    "\n",
    "    StructField(\"methods\", StructType([\n",
    "        StructField(\"sop\", StringType(), True),\n",
    "        StructField(\"id\", StringType(), True),\n",
    "        StructField(\"meth_id\", StringType(), True),\n",
    "        StructField(\"temp_id\", StringType(), True),\n",
    "        StructField(\"report_template_version\", StringType(), True),\n",
    "        StructField(\"seq_id\", StringType(), True),\n",
    "        StructField(\"seq_version\", StringType(), True)\n",
    "    ]), True),\n",
    "\n",
    "    StructField(\"runs\", ArrayType(StructType([\n",
    "        StructField(\"in_num\", StringType(), True),\n",
    "        StructField(\"in_name\", StringType(), True),\n",
    "        StructField(\"pk\", StringType(), True)\n",
    "    ])), True),\n",
    "\n",
    "    StructField(\"sst\", ArrayType(StructType([\n",
    "        StructField(\"fk\", StringType(), True),\n",
    "        StructField(\"sst_res\", StructType([\n",
    "            StructField(\"number\", StringType(), True),\n",
    "            StructField(\"in_num\", StringType(), True),\n",
    "            StructField(\"in_name\", StringType(), True),\n",
    "            StructField(\"sst_name\", StringType(), True),\n",
    "            StructField(\"peak\", StringType(), True),\n",
    "            StructField(\"eval_result\", StringType(), True),\n",
    "            StructField(\"result\", StringType(), True)\n",
    "        ]), True)\n",
    "    ])), True),\n",
    "\n",
    "    StructField(\"results\", ArrayType(StructType([\n",
    "        StructField(\"fk\", StringType(), True),\n",
    "        StructField(\"result\", StructType([\n",
    "            StructField(\"samp_id\", StringType(), True),\n",
    "            StructField(\"as_id\", StringType(), True),\n",
    "            StructField(\"Type\", StringType(), True),\n",
    "            StructField(\"comp\", StringType(), True),\n",
    "            StructField(\"unit\", StringType(), True),\n",
    "            StructField(\"det_id\", StringType(), True),\n",
    "            StructField(\"result\", StringType(), True),\n",
    "            StructField(\"number_of_averaged_samples\", StringType(), True)\n",
    "        ]), True)\n",
    "    ])), True)\n",
    "])\n"
   ]
  }
 ],
 "metadata": {
  "application/vnd.databricks.v1+notebook": {
   "computePreferences": null,
   "dashboards": [],
   "environmentMetadata": {
    "base_environment": "",
    "environment_version": "2"
   },
   "inputWidgetPreferences": null,
   "language": "python",
   "notebookMetadata": {
    "pythonIndentUnit": 4
   },
   "notebookName": "schema_definition",
   "widgets": {}
  },
  "language_info": {
   "name": "python"
  }
 },
 "nbformat": 4,
 "nbformat_minor": 0
}
